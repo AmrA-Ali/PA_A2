{
 "cells": [
  {
   "cell_type": "code",
   "execution_count": 1,
   "metadata": {},
   "outputs": [],
   "source": [
    "import matplotlib.pyplot as plt\n",
    "import os\n",
    "import numpy as np\n",
    "from numpy.linalg import inv"
   ]
  },
  {
   "cell_type": "code",
   "execution_count": 2,
   "metadata": {},
   "outputs": [],
   "source": [
    "skin = open('data.txt','r')\n",
    "rl = skin.readlines()\n",
    "#print(rl)\n",
    "\n",
    "src_data = []\n",
    "count = [0,0]\n",
    "for e in rl:\n",
    "    if(e.find('\\n') != -1):\n",
    "        e = e[:-1]\n",
    "    a= e.split(' ')\n",
    "    f = np.ones(15)\n",
    "    for i in range(1,15):\n",
    "        f[i] = a[i-1]\n",
    "    f = [float(i) for i in f]\n",
    "    src_data.append(np.array(f))\n",
    "\n",
    "skin.close()\n",
    "#print(src_data)\n",
    "x_points = [e[:-1] for e in src_data]\n",
    "y_points = [e[-1]-1 for e in src_data]\n"
   ]
  },
  {
   "cell_type": "code",
   "execution_count": 3,
   "metadata": {},
   "outputs": [
    {
     "name": "stdout",
     "output_type": "stream",
     "text": [
      "270\n",
      "(216, 54)\n"
     ]
    }
   ],
   "source": [
    "print(len(src_data))\n",
    "x_train,y_train = np.array(x_points[:216]), y_points[0:216]\n",
    "x_test,y_test = np.array(x_points[216:]), y_points[216:]\n",
    "\n",
    "print(len(x_train), len(x_test))"
   ]
  },
  {
   "cell_type": "code",
   "execution_count": 4,
   "metadata": {},
   "outputs": [],
   "source": [
    "def sig(w):\n",
    "    return (1 / (1 + np.exp(-1*w)))\n",
    "def p(x,B):\n",
    "    p_list = []\n",
    "    for e in x:\n",
    "        w = np.dot(e.T,B)\n",
    "        p_list.append(sig(w))\n",
    "    return np.array(p_list)\n",
    "def hess(x,B):\n",
    "    x_hs = []\n",
    "    for e in x:\n",
    "        w = np.dot(e.T,B)\n",
    "        a = np.dot(sig(w), (1-sig(w)))\n",
    "        a = np.dot(a,e.T)\n",
    "        x_hs.append(a)\n",
    "    return np.array(x_hs)\n",
    "def update(B, X, X_hs, Y, P):\n",
    "    P = p(X,B)\n",
    "    return B + np.dot( np.dot( inv( np.dot(X.T, X_hs) ), X.T ), (Y-P) )\n",
    "\n",
    "\n",
    "def newton(x_train,y_train):\n",
    "    \n",
    "    B = np.zeros(x_train[0].shape[0])\n",
    "    #print(B.shape)\n",
    "    X = x_train\n",
    "    Y = y_train\n",
    "    count = 0\n",
    "    while(count < 1000):\n",
    "        count+=1\n",
    "        P = p(X, B)\n",
    "        X_hs = hess(X,B)\n",
    "        B = update(B,X,X_hs,Y,P)\n",
    "        #print(B)\n",
    "    return B\n",
    "def evaluate(x,y,B):\n",
    "    correct = 0\n",
    "    #print(x)\n",
    "    for cn in range(x.shape[0]):\n",
    "        e = x[cn]\n",
    "        z = y[cn]\n",
    "        w = np.dot(e.T, B)\n",
    "        #print(sig(w), z)\n",
    "        if(sig(w) >= 0.5 and z == 1):\n",
    "            correct+=1.0\n",
    "        if(sig(w) < 0.5 and z == 0):\n",
    "            correct+=1.0\n",
    "    acc = correct / x.shape[0]\n",
    "    return acc\n",
    "    "
   ]
  },
  {
   "cell_type": "code",
   "execution_count": 5,
   "metadata": {},
   "outputs": [],
   "source": [
    "B = newton(x_train,y_train)"
   ]
  },
  {
   "cell_type": "code",
   "execution_count": 6,
   "metadata": {},
   "outputs": [
    {
     "name": "stdout",
     "output_type": "stream",
     "text": [
      "0.856481481481\n",
      "0.888888888889\n"
     ]
    }
   ],
   "source": [
    "#train\n",
    "print(evaluate(x_train,y_train,B))\n",
    "\n",
    "#train\n",
    "print(evaluate(x_test,y_test,B))"
   ]
  },
  {
   "cell_type": "code",
   "execution_count": null,
   "metadata": {},
   "outputs": [],
   "source": []
  }
 ],
 "metadata": {
  "kernelspec": {
   "display_name": "Python 2",
   "language": "python",
   "name": "python2"
  },
  "language_info": {
   "codemirror_mode": {
    "name": "ipython",
    "version": 2
   },
   "file_extension": ".py",
   "mimetype": "text/x-python",
   "name": "python",
   "nbconvert_exporter": "python",
   "pygments_lexer": "ipython2",
   "version": "2.7.12"
  }
 },
 "nbformat": 4,
 "nbformat_minor": 2
}
