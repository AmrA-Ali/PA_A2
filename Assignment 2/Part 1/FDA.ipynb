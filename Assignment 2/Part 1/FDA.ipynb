{
 "cells": [
  {
   "cell_type": "code",
   "execution_count": 49,
   "metadata": {},
   "outputs": [],
   "source": [
    "import matplotlib.pyplot as plt\n",
    "import os\n",
    "import numpy as np\n",
    "from numpy.linalg import inv"
   ]
  },
  {
   "cell_type": "code",
   "execution_count": 50,
   "metadata": {},
   "outputs": [],
   "source": [
    "skin = open('data.txt','r')\n",
    "rl = skin.readlines()\n",
    "#print(rl)\n",
    "\n",
    "src_data = []\n",
    "count = [0,0]\n",
    "for e in rl:\n",
    "    if(e.find('\\n') != -1):\n",
    "        e = e[:-1]\n",
    "    a= e.split(' ')\n",
    "    a = [float(i) for i in a]\n",
    "    src_data.append(np.array(a))\n",
    "\n",
    "skin.close()\n",
    "#print(src_data)\n",
    "\n",
    "\n",
    "train_1 = np.array([e[:-1] for e in src_data[:216] if e[-1] == 1])\n",
    "train_2 = np.array([e[:-1] for e in src_data[:216] if e[-1] == 2])\n",
    "\n",
    "test_1 = np.array([e[:-1] for e in src_data[216:] if e[-1] == 1])\n",
    "test_2 = np.array([e[:-1] for e in src_data[216:] if e[-1] == 2])\n",
    "\n"
   ]
  },
  {
   "cell_type": "code",
   "execution_count": 51,
   "metadata": {},
   "outputs": [],
   "source": [
    "def scatt(x):\n",
    "    mean = np.mean(x, axis = 0)\n",
    "    sct = x - mean\n",
    "    Sct = np.dot(sct.T,sct)\n",
    "    #print(Sct.shape)\n",
    "    return Sct\n",
    "def get_weights(cl_1, cl_2):\n",
    "    Sw = scatt(cl_1) + scatt(cl_2)\n",
    "    #print('Sw shape: ', Sw.shape)\n",
    "    diff = np.mean(cl_1, axis = 0) - np.mean(cl_2, axis = 0)\n",
    "    #print('Mean diff shape: ', diff.shape)\n",
    "    W = np.dot( inv(Sw) , diff )\n",
    "    #print('Weights shape: ', W.shape)\n",
    "    return W\n",
    "def project(W, cl_1,cl_2):\n",
    "    Y_1 = np.dot(W.T,cl_1.T)\n",
    "    Y_2 = np.dot(W.T,cl_2.T)\n",
    "    return Y_1, Y_2\n",
    "\n",
    "def find_threshold(y1,y2):\n",
    "    mean1, mean2 = np.mean(y1), np.mean(y2)\n",
    "    min_val = min(min(y1),min(y2))\n",
    "    max_val = max(max(y1),max(y2))\n",
    "    threshold = min_val\n",
    "    y = np.concatenate((y1,y2),axis=0)\n",
    "    best = 0\n",
    "    while(threshold < max_val):\n",
    "        correct = 0\n",
    "        for e in y1:\n",
    "            if(e >= threshold):\n",
    "                correct+=1.0\n",
    "        #print('Class 1 Acc', correct / (y1.shape[0]))\n",
    "        \n",
    "        for e in y2:\n",
    "            if(e < threshold):\n",
    "                correct+=1.0\n",
    "        acc = correct / (y1.shape[0] + y2.shape[0])\n",
    "        \n",
    "        #print('Acc: ', acc)\n",
    "        if(acc>best):\n",
    "            best = acc\n",
    "            #print(best)\n",
    "            best_th = threshold\n",
    "        threshold+=0.00001\n",
    "    return best_th,best\n",
    "\n",
    "def evaluate(y1,y2,threshold):\n",
    "    correct = 0\n",
    "    for e in y1:\n",
    "        if(e >= threshold):\n",
    "            correct+=1.0\n",
    "    \n",
    "    for e in y2:\n",
    "        if(e < threshold):\n",
    "            correct+=1.0\n",
    "    \n",
    "    acc = correct / (y1.shape[0] + y2.shape[0])\n",
    "    return acc"
   ]
  },
  {
   "cell_type": "code",
   "execution_count": 52,
   "metadata": {},
   "outputs": [
    {
     "name": "stdout",
     "output_type": "stream",
     "text": [
      "('Threshold: ', -0.038211245392150282)\n",
      "('Training Accuracy: ', 0.8657407407407407)\n",
      "('Testing Accuracy: ', 0.8888888888888888)\n"
     ]
    }
   ],
   "source": [
    "#Get Weights\n",
    "W = get_weights(train_1,train_2)\n",
    "\n",
    "#Evaluate Train\n",
    "Y_1, Y_2 = project(W,train_1,train_2)\n",
    "threshold, best_acc = find_threshold(Y_1,Y_2)\n",
    "\n",
    "#evaluate testing\n",
    "ytest1, ytest2 = project(W,test_1,test_2)\n",
    "acc = evaluate(ytest1, ytest2, threshold)\n",
    "\n",
    "print('Threshold: ', threshold)\n",
    "print('Training Accuracy: ' , best_acc)\n",
    "print('Testing Accuracy: ', acc)"
   ]
  },
  {
   "cell_type": "code",
   "execution_count": null,
   "metadata": {},
   "outputs": [],
   "source": []
  }
 ],
 "metadata": {
  "kernelspec": {
   "display_name": "Python 2",
   "language": "python",
   "name": "python2"
  },
  "language_info": {
   "codemirror_mode": {
    "name": "ipython",
    "version": 2
   },
   "file_extension": ".py",
   "mimetype": "text/x-python",
   "name": "python",
   "nbconvert_exporter": "python",
   "pygments_lexer": "ipython2",
   "version": "2.7.12"
  }
 },
 "nbformat": 4,
 "nbformat_minor": 2
}
